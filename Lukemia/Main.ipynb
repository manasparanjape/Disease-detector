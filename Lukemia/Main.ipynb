{
 "cells": [
  {
   "cell_type": "code",
   "execution_count": 1,
   "metadata": {},
   "outputs": [],
   "source": [
    "import os\n",
    "os.environ['TF_CPP_MIN_LOG_LEVEL'] = '3'\n",
    "\n",
    "from os import listdir\n",
    "from os.path import isfile, join\n",
    "import numpy as np\n",
    "import tensorflow as tf\n",
    "from PIL import Image as img\n",
    "from tensorflow.python import keras\n",
    "from keras import Sequential, datasets, layers, models\n",
    "import pickle as pk\n",
    "# import matplotlib.pyplot as plt"
   ]
  },
  {
   "cell_type": "code",
   "execution_count": 2,
   "metadata": {},
   "outputs": [],
   "source": [
    "pixels = 100\n",
    "dimensions = (pixels, pixels)\n",
    "bins = 2\n",
    "mid_layer_1 = 1000\n",
    "num_epochs = 3\n",
    "learning_rate = 0.001\n",
    "reduction_factor = 0.8"
   ]
  },
  {
   "cell_type": "code",
   "execution_count": 3,
   "metadata": {},
   "outputs": [],
   "source": [
    "class LearningRateReducerCb(tf.keras.callbacks.Callback):\n",
    "    def on_epoch_end(self, epoch, logs={}):\n",
    "        old_lr = self.model.optimizer.lr.read_value()\n",
    "        new_lr = old_lr * reduction_factor\n",
    "        print(\"\\nEpoch: {}. Reducing Learning Rate from {} to {}\".format(epoch, old_lr, new_lr))\n",
    "        self.model.optimizer.lr.assign(new_lr)"
   ]
  },
  {
   "cell_type": "code",
   "execution_count": 4,
   "metadata": {},
   "outputs": [],
   "source": [
    "train_images = []\n",
    "train_labels = np.array([])\n",
    "\n",
    "folder_path = \"/mnt/c/NN/Lukemia/C-NMC_Leukemia/training_data/fold_0/\"\n",
    "\n",
    "for f in listdir(folder_path + \"all\"):\n",
    "    im = img.open(folder_path + \"all/\" + f)\n",
    "    im = im.resize(dimensions)\n",
    "    im = im.convert('L')\n",
    "    im_array = np.asarray(im)\n",
    "    im.close()\n",
    "    train_images.append(im_array)\n",
    "    train_labels = np.append(train_labels, 1)\n",
    "\n",
    "for f in listdir(folder_path + \"hem\"):\n",
    "    im = img.open(folder_path + \"hem/\" + f)\n",
    "    im = im.resize(dimensions)\n",
    "    im = im.convert('L')\n",
    "    im_array = np.asarray(im)\n",
    "    im.close()\n",
    "    train_images.append(im_array)\n",
    "    train_labels = np.append(train_labels, 0)"
   ]
  },
  {
   "cell_type": "code",
   "execution_count": 5,
   "metadata": {},
   "outputs": [
    {
     "name": "stdout",
     "output_type": "stream",
     "text": [
      "(10661, 100, 100)\n",
      "(10661,)\n"
     ]
    }
   ],
   "source": [
    "train_images = np.array(train_images)\n",
    "print(np.shape(train_images))\n",
    "print(np.shape(train_labels))"
   ]
  },
  {
   "cell_type": "code",
   "execution_count": 6,
   "metadata": {},
   "outputs": [],
   "source": [
    "randomize = np.arange(np.size(train_labels, 0))\n",
    "np.random.shuffle(randomize)\n",
    "train_images = train_images[randomize]\n",
    "train_labels = train_labels[randomize]\n",
    "\n",
    "test_images = train_images[int(0.8 * np.size(train_labels)):, :, :]\n",
    "test_labels = train_labels[int(0.8 * np.size(train_labels)):]\n",
    "\n",
    "train_images = train_images[:int(0.8 * np.size(train_labels)), :, :]\n",
    "train_labels = train_labels[:int(0.8 * np.size(train_labels))]\n",
    "\n",
    "train_images = np.squeeze(train_images)\n",
    "test_images = np.squeeze(test_images)\n",
    "train_labels = np.squeeze(train_labels)\n",
    "test_labels = np.squeeze(test_labels)"
   ]
  },
  {
   "cell_type": "code",
   "execution_count": 7,
   "metadata": {},
   "outputs": [
    {
     "name": "stdout",
     "output_type": "stream",
     "text": [
      "(100, 100)\n"
     ]
    }
   ],
   "source": [
    "print(dimensions)"
   ]
  },
  {
   "cell_type": "code",
   "execution_count": 8,
   "metadata": {},
   "outputs": [],
   "source": [
    "model = models.Sequential()\n",
    "model.add(layers.Conv2D(pixels, (3, 3), activation='relu', input_shape=(pixels, pixels, 1)))\n",
    "model.add(layers.MaxPooling2D((2, 2)))\n",
    "# model.add(layers.Conv2D(2 * pixels, (3, 3), activation='relu'))\n",
    "# model.add(layers.MaxPooling2D((2, 2)))\n",
    "model.add(layers.Conv2D(2 * pixels, (3, 3), activation='relu'))\n",
    "model.add(layers.MaxPooling2D((2, 2)))\n",
    "\n",
    "model.add(layers.Flatten())\n",
    "model.add(layers.Dense(mid_layer_1, activation='relu'))\n",
    "model.add(layers.Dense(bins))\n",
    "\n",
    "opt = tf.keras.optimizers.Adam(learning_rate=learning_rate)\n",
    "model.compile(optimizer=opt,\n",
    "              loss=tf.keras.losses.SparseCategoricalCrossentropy(from_logits=True),\n",
    "              metrics=['accuracy'])"
   ]
  },
  {
   "cell_type": "code",
   "execution_count": 9,
   "metadata": {},
   "outputs": [
    {
     "name": "stdout",
     "output_type": "stream",
     "text": [
      "Epoch 1/3\n",
      "267/267 [==============================] - ETA: 0s - loss: 3.4027 - accuracy: 0.7906\n",
      "Epoch: 0. Reducing Learning Rate from 0.0010000000474974513 to 0.000800000037997961\n",
      "267/267 [==============================] - 277s 1s/step - loss: 3.4027 - accuracy: 0.7906 - val_loss: 0.4683 - val_accuracy: 0.8050\n",
      "Epoch 2/3\n",
      "267/267 [==============================] - ETA: 0s - loss: 0.4219 - accuracy: 0.8158\n",
      "Epoch: 1. Reducing Learning Rate from 0.000800000037997961 to 0.000640000042039901\n",
      "267/267 [==============================] - 295s 1s/step - loss: 0.4219 - accuracy: 0.8158 - val_loss: 0.4626 - val_accuracy: 0.8036\n",
      "Epoch 3/3\n",
      "267/267 [==============================] - ETA: 0s - loss: 0.3858 - accuracy: 0.8296\n",
      "Epoch: 2. Reducing Learning Rate from 0.000640000042039901 to 0.0005120000569149852\n",
      "267/267 [==============================] - 300s 1s/step - loss: 0.3858 - accuracy: 0.8296 - val_loss: 0.4881 - val_accuracy: 0.7961\n"
     ]
    }
   ],
   "source": [
    "history = model.fit(train_images, train_labels, callbacks=[LearningRateReducerCb()], epochs=num_epochs,\n",
    "                    validation_data=(test_images, test_labels))"
   ]
  },
  {
   "cell_type": "code",
   "execution_count": 10,
   "metadata": {},
   "outputs": [
    {
     "name": "stdout",
     "output_type": "stream",
     "text": [
      "67/67 - 10s - loss: 0.4881 - accuracy: 0.7961 - 10s/epoch - 155ms/step\n",
      "Accuracy = 79.606 %\n"
     ]
    }
   ],
   "source": [
    "test_loss, test_acc = model.evaluate(test_images, test_labels, verbose=2)\n",
    "print(\"Accuracy = \" + str(np.round(test_acc * 100, 3)) + \" %\")"
   ]
  },
  {
   "cell_type": "code",
   "execution_count": 11,
   "metadata": {},
   "outputs": [
    {
     "name": "stdout",
     "output_type": "stream",
     "text": [
      "INFO:tensorflow:Assets written to: ram://66c52fdf-a02b-4a38-8a8b-e351709ae5e1/assets\n"
     ]
    }
   ],
   "source": [
    "filename = 'model.bin'\n",
    "pk.dump(model, open(filename, 'wb'))"
   ]
  },
  {
   "cell_type": "code",
   "execution_count": null,
   "metadata": {},
   "outputs": [],
   "source": [
    "model = pk.load(open(filename, 'rb'))"
   ]
  }
 ],
 "metadata": {
  "interpreter": {
   "hash": "e731989cd326d52c77dd083fcea25a1c1d243382c978fca58052fddf4e4e75d8"
  },
  "kernelspec": {
   "display_name": "Python 3.9.7 ('mlenv')",
   "language": "python",
   "name": "python3"
  },
  "language_info": {
   "codemirror_mode": {
    "name": "ipython",
    "version": 3
   },
   "file_extension": ".py",
   "mimetype": "text/x-python",
   "name": "python",
   "nbconvert_exporter": "python",
   "pygments_lexer": "ipython3",
   "version": "3.9.7"
  },
  "orig_nbformat": 4
 },
 "nbformat": 4,
 "nbformat_minor": 2
}
