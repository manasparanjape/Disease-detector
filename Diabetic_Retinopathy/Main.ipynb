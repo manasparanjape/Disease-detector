{
 "cells": [
  {
   "cell_type": "code",
   "execution_count": 1,
   "metadata": {},
   "outputs": [],
   "source": [
    "import os\n",
    "os.environ['TF_CPP_MIN_LOG_LEVEL'] = '3'\n",
    "\n",
    "from os import listdir\n",
    "from os.path import isfile, join\n",
    "import numpy as np \n",
    "import tensorflow as tf\n",
    "from PIL import Image as img\n",
    "from tensorflow.python import keras\n",
    "from keras import Sequential, datasets, layers, models\n",
    "import pickle as pk"
   ]
  },
  {
   "cell_type": "code",
   "execution_count": 2,
   "metadata": {},
   "outputs": [],
   "source": [
    "pixels = 128\n",
    "dimensions = (pixels, pixels)\n",
    "bins = 5\n",
    "mid_layer = 512\n",
    "num_epochs = 3\n",
    "learning_rate = 0.001\n",
    "reduction_factor = 0.7"
   ]
  },
  {
   "cell_type": "code",
   "execution_count": 3,
   "metadata": {},
   "outputs": [],
   "source": [
    "class LearningRateReducerCb(tf.keras.callbacks.Callback):\n",
    "    def on_epoch_end(self, epoch, logs={}):\n",
    "        old_lr = self.model.optimizer.lr.read_value()\n",
    "        new_lr = old_lr * reduction_factor\n",
    "        print(\"\\nEpoch: {}. Reducing Learning Rate from {} to {}\".format(epoch, old_lr, new_lr))\n",
    "        self.model.optimizer.lr.assign(new_lr)"
   ]
  },
  {
   "cell_type": "code",
   "execution_count": 5,
   "metadata": {},
   "outputs": [],
   "source": [
    "train_images = []\n",
    "train_labels = np.array([])\n",
    "filenames = []\n",
    "\n",
    "folder_path = '/mnt/c/NN/Diabetic Retinopathy/'\n",
    "\n",
    "for i in range(5):\n",
    "    j = 0\n",
    "    for f in listdir(folder_path + str(i)):\n",
    "        im = img.open(folder_path + str(i) + '/' + f)\n",
    "        im = im.resize(dimensions)\n",
    "        im = im.convert('L')\n",
    "        im_array = np.array(im)\n",
    "        im.close()\n",
    "        train_images.append(im_array)\n",
    "        train_labels = np.append(train_labels, i)  \n",
    "        filenames.append(f)\n",
    "        j += 1\n",
    "        if j == 708:\n",
    "            break   "
   ]
  },
  {
   "cell_type": "code",
   "execution_count": 6,
   "metadata": {},
   "outputs": [
    {
     "name": "stdout",
     "output_type": "stream",
     "text": [
      "(3540, 128, 128)\n",
      "(3540,)\n",
      "(3540,)\n"
     ]
    }
   ],
   "source": [
    "print(np.shape(train_images))\n",
    "print(np.shape(train_labels))\n",
    "print(np.shape(filenames))"
   ]
  },
  {
   "cell_type": "code",
   "execution_count": 7,
   "metadata": {},
   "outputs": [],
   "source": [
    "train_images = np.array(train_images)\n",
    "# train_images = np.reshape(train_images, (354, pixels, 2 * pixels, 5))\n",
    "# train_labels = np.reshape(train_labels, (5, 354))"
   ]
  },
  {
   "cell_type": "code",
   "execution_count": 8,
   "metadata": {},
   "outputs": [],
   "source": [
    "randomize = np.arange(len(train_images))\n",
    "np.random.shuffle(randomize)\n",
    "train_images = train_images[randomize]\n",
    "train_labels = train_labels[randomize]\n",
    "temp = filenames\n",
    "for i in range(len(train_images)):\n",
    "    temp[i] = filenames[randomize[i]]\n",
    "filenames = temp\n",
    "\n",
    "test_images = train_images[int(len(train_labels) * 0.8):, :, :]\n",
    "test_labels = train_labels[int(len(train_labels) * 0.8):]\n",
    "test_filenames = filenames[int(len(train_labels) * 0.8):]\n",
    "\n",
    "train_images = train_images[:int(len(train_labels) * 0.8), :, :]\n",
    "train_labels = train_labels[:int(len(train_labels) * 0.8)]\n",
    "train_filenames = filenames[:int(len(train_labels) * 0.8)]\n",
    "\n",
    "train_images = np.squeeze(train_images) / 255.0\n",
    "test_images = np.squeeze(test_images) / 255.0\n",
    "\n",
    "train_labels = np.squeeze(train_labels)\n",
    "test_labels = np.squeeze(test_labels)\n",
    "\n",
    "# train_images = np.squeeze(np.reshape(train_images, (len(train_images) * 5, pixels, 2 * pixels))) / 255.0\n",
    "# train_labels = np.squeeze(np.reshape(train_labels, len(train_labels) * 5))\n",
    "# test_images = np.squeeze(np.reshape(test_images, (len(test_images) * 5, pixels, 2 * pixels))) / 255.0\n",
    "# test_labels = np.squeeze(np.reshape(test_labels, len(test_labels) * 5))"
   ]
  },
  {
   "cell_type": "code",
   "execution_count": 9,
   "metadata": {},
   "outputs": [
    {
     "name": "stdout",
     "output_type": "stream",
     "text": [
      "(2832, 128, 128)\n",
      "(2832,)\n",
      "(708, 128, 128)\n",
      "(708,)\n"
     ]
    }
   ],
   "source": [
    "print(np.shape(train_images))\n",
    "print(np.shape(train_labels))\n",
    "print(np.shape(test_images))\n",
    "print(np.shape(test_labels))"
   ]
  },
  {
   "cell_type": "code",
   "execution_count": 12,
   "metadata": {},
   "outputs": [
    {
     "data": {
      "image/png": "[encoded data removed]",
      "text/plain": [
       "<PIL.Image.Image image mode=L size=128x128 at 0x7F5A2C7749A0>"
      ]
     },
     "metadata": {},
     "output_type": "display_data"
    },
    {
     "name": "stdout",
     "output_type": "stream",
     "text": [
      "1.0\n",
      "15083_right.jpeg\n"
     ]
    }
   ],
   "source": [
    "to_show = 2\n",
    "img.fromarray(255 * train_images[to_show]).show()\n",
    "print(train_labels[to_show])\n",
    "print(train_filenames[to_show])"
   ]
  },
  {
   "cell_type": "code",
   "execution_count": 13,
   "metadata": {},
   "outputs": [
    {
     "data": {
      "image/png": "[encoded data removed]",
      "text/plain": [
       "<PIL.Image.Image image mode=L size=128x128 at 0x7F5A2C774D30>"
      ]
     },
     "metadata": {},
     "output_type": "display_data"
    },
    {
     "name": "stdout",
     "output_type": "stream",
     "text": [
      "0.0\n",
      "108_left.jpeg\n"
     ]
    }
   ],
   "source": [
    "to_show = 3\n",
    "img.fromarray(255 * test_images[to_show]).show()\n",
    "print(test_labels[to_show])\n",
    "print(test_filenames[to_show])"
   ]
  },
  {
   "cell_type": "code",
   "execution_count": null,
   "metadata": {},
   "outputs": [],
   "source": [
    "model = models.Sequential()\n",
    "model.add(layers.Conv2D(32, (3, 3), activation='relu', input_shape=(pixels, pixels, 1)))\n",
    "model.add(layers.MaxPooling2D(2, 2))\n",
    "model.add(layers.Conv2D(64, (3, 3), activation='relu'))\n",
    "model.add(layers.MaxPooling2D(2, 2))\n",
    "model.add(layers.Conv2D(128, (3, 3), activation='relu'))\n",
    "model.add(layers.MaxPooling2D(2, 2))\n",
    "model.add(layers.Conv2D(256, (3, 3), activation='relu'))\n",
    "model.add(layers.MaxPooling2D(2, 2))\n",
    "model.add(layers.Conv2D(512, (3, 3), activation='relu'))\n",
    "model.add(layers.MaxPooling2D(2, 2))\n",
    "model.add(layers.Flatten())\n",
    "model.add(layers.Dense(mid_layer, activation='relu'))\n",
    "model.add(layers.Dense(bins, activation='softmax'))\n",
    "\n",
    "opt = tf.keras.optimizers.Adam(learning_rate=learning_rate)\n",
    "model.compile(optimizer=opt,\n",
    "                loss='sparse_categorical_crossentropy',\n",
    "                metrics=['accuracy'])\n",
    "\n",
    "# model.summary()"
   ]
  },
  {
   "cell_type": "code",
   "execution_count": null,
   "metadata": {},
   "outputs": [],
   "source": [
    "history = model.fit(train_images, train_labels, callbacks=[LearningRateReducerCb()], epochs=num_epochs,\n",
    "                    validation_data=(test_images, test_labels))"
   ]
  }
 ],
 "metadata": {
  "interpreter": {
   "hash": "e731989cd326d52c77dd083fcea25a1c1d243382c978fca58052fddf4e4e75d8"
  },
  "kernelspec": {
   "display_name": "Python 3.9.7 ('mlenv')",
   "language": "python",
   "name": "python3"
  },
  "language_info": {
   "codemirror_mode": {
    "name": "ipython",
    "version": 3
   },
   "file_extension": ".py",
   "mimetype": "text/x-python",
   "name": "python",
   "nbconvert_exporter": "python",
   "pygments_lexer": "ipython3",
   "version": "3.9.7"
  },
  "orig_nbformat": 4
 },
 "nbformat": 4,
 "nbformat_minor": 2
}
