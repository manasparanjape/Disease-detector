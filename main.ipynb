{
 "cells": [
  {
   "cell_type": "markdown",
   "metadata": {},
   "source": [
    "Code to predict type of pmeumonia from exray of chest of patient."
   ]
  },
  {
   "cell_type": "code",
   "execution_count": 1,
   "metadata": {},
   "outputs": [],
   "source": [
    "import os\n",
    "os.environ['TF_CPP_MIN_LOG_LEVEL'] = '3'\n",
    "\n",
    "from os import listdir\n",
    "from os.path import isfile, join\n",
    "import numpy as np\n",
    "import tensorflow as tf\n",
    "from PIL import Image as img\n",
    "from tensorflow.python import keras\n",
    "from keras import Sequential, datasets, layers, models"
   ]
  },
  {
   "cell_type": "markdown",
   "metadata": {},
   "source": [
    "Various imports needed."
   ]
  },
  {
   "cell_type": "code",
   "execution_count": 3,
   "metadata": {},
   "outputs": [],
   "source": [
    "pixels = 500\n",
    "dimensions = (pixels, pixels)\n",
    "bins = 3\n",
    "mid_layer = 750\n",
    "training_iters = 10\n",
    "learning_rate = 2e-3\n",
    "num_epochs = 1"
   ]
  },
  {
   "cell_type": "code",
   "execution_count": 4,
   "metadata": {},
   "outputs": [],
   "source": [
    "train_images = []\n",
    "train_labels = np.array([])\n",
    "folder_path = \"/mnt/c/NN/Pneumonia/chest_xray/train/\"\n",
    "\n",
    "for f in listdir(folder_path + \"NORMAL\"):\n",
    "    im = img.open(folder_path + \"NORMAL/\" + f)\n",
    "    im = im.resize(dimensions)\n",
    "    im = im.convert('L')\n",
    "    im_array = np.asarray(im)\n",
    "    train_images.append(im_array)\n",
    "    im.close()\n",
    "    train_images.append(im)\n",
    "    train_labels = np.append(train_labels, 0)\n",
    "\n",
    "for f in listdir(folder_path + \"PNEUMONIA\"):\n",
    "    im = img.open(folder_path + \"PNEUMONIA/\" + f)\n",
    "    im = im.resize(dimensions)\n",
    "    im = im.convert('L')\n",
    "    im_array = np.asarray(im)\n",
    "    train_images.append(im_array)\n",
    "    im.close()    \n",
    "    if \"bacteria\" in f:\n",
    "        train_labels = np.append(train_labels, 1)\n",
    "    elif \"virus\" in f:\n",
    "        train_labels = np.append(train_labels, 2)\n",
    "\n",
    "test_images = []\n",
    "test_labels = np.array([])\n",
    "folder_path = \"/mnt/c/NN/Pneumonia/chest_xray/test/\"\n",
    "\n",
    "for f in listdir(folder_path + \"NORMAL\"):\n",
    "    im = img.open(folder_path + \"NORMAL/\" + f)\n",
    "    im = im.resize(dimensions)\n",
    "    im = im.convert('L')\n",
    "    im_array = np.asarray(im)\n",
    "    test_images.append(im_array)\n",
    "    im.close()    \n",
    "    test_labels = np.append(test_labels, 0)\n",
    "\n",
    "for f in listdir(folder_path + \"PNEUMONIA\"):\n",
    "    im = img.open(folder_path + \"PNEUMONIA/\" + f)\n",
    "    im = im.resize(dimensions)\n",
    "    im = im.convert('L')\n",
    "    im_array = np.asarray(im)\n",
    "    test_images.append(im_array)\n",
    "    im.close()    \n",
    "    if \"bacteria\" in f:\n",
    "        test_labels = np.append(test_labels, 1)\n",
    "    elif \"virus\" in f:\n",
    "        test_labels = np.append(test_labels, 2)\n"
   ]
  }
 ],
 "metadata": {
  "interpreter": {
   "hash": "e731989cd326d52c77dd083fcea25a1c1d243382c978fca58052fddf4e4e75d8"
  },
  "kernelspec": {
   "display_name": "Python 3.9.7 ('mlenv')",
   "language": "python",
   "name": "python3"
  },
  "language_info": {
   "codemirror_mode": {
    "name": "ipython",
    "version": 3
   },
   "file_extension": ".py",
   "mimetype": "text/x-python",
   "name": "python",
   "nbconvert_exporter": "python",
   "pygments_lexer": "ipython3",
   "version": "3.9.7"
  },
  "orig_nbformat": 4
 },
 "nbformat": 4,
 "nbformat_minor": 2
}
