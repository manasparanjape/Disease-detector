{
 "cells": [
  {
   "cell_type": "markdown",
   "metadata": {},
   "source": [
    "Code to predict type of pmeumonia from exray of chest of patient."
   ]
  },
  {
   "cell_type": "code",
   "execution_count": 2,
   "metadata": {},
   "outputs": [],
   "source": [
    "import os\n",
    "os.environ['TF_CPP_MIN_LOG_LEVEL'] = '3'\n",
    "\n",
    "from os import listdir\n",
    "from os.path import isfile, join\n",
    "import numpy as np\n",
    "import tensorflow as tf\n",
    "from PIL import Image as img\n",
    "from tensorflow.python import keras\n",
    "from keras import Sequential, datasets, layers, models\n",
    "import pickle as pk"
   ]
  },
  {
   "cell_type": "markdown",
   "metadata": {},
   "source": [
    "Various imports needed."
   ]
  },
  {
   "cell_type": "code",
   "execution_count": 4,
   "metadata": {},
   "outputs": [],
   "source": [
    "pixels = 150\n",
    "dimensions = (pixels, pixels)\n",
    "bins = 2\n",
    "mid_layer = 750\n",
    "training_iters = 10\n",
    "learning_rate = 2e-3\n",
    "num_epochs = 1\n",
    "reduction_factor = 0.9"
   ]
  },
  {
   "cell_type": "markdown",
   "metadata": {},
   "source": [
    "Variables defined"
   ]
  },
  {
   "cell_type": "code",
   "execution_count": 5,
   "metadata": {},
   "outputs": [],
   "source": [
    "class LearningRateReducerCb(tf.keras.callbacks.Callback):\n",
    "    def on_epoch_end(self, epoch, logs={}):\n",
    "        old_lr = self.model.optimizer.lr.read_value()\n",
    "        new_lr = old_lr * reduction_factor\n",
    "        print(\"\\nEpoch: {}. Reducing Learning Rate from {} to {}\".format(epoch, old_lr, new_lr))\n",
    "        self.model.optimizer.lr.assign(new_lr)"
   ]
  },
  {
   "cell_type": "markdown",
   "metadata": {},
   "source": [
    "Reduces learning rate by epochs."
   ]
  },
  {
   "cell_type": "code",
   "execution_count": 6,
   "metadata": {},
   "outputs": [],
   "source": [
    "train_images = []\n",
    "train_labels = np.array([])\n",
    "folder_path = \"/mnt/c/NN/Pneumonia/chest_xray/train/\"\n",
    "\n",
    "for f in listdir(folder_path + \"NORMAL\"):\n",
    "    im = img.open(folder_path + \"NORMAL/\" + f)\n",
    "    im = im.resize(dimensions)\n",
    "    im = im.convert('L')\n",
    "    im_array = np.asarray(im)\n",
    "    train_images.append(im_array)\n",
    "    im.close()\n",
    "    train_labels = np.append(train_labels, 0)\n",
    "\n",
    "num_normal = np.size(train_labels)\n",
    "\n",
    "for f in listdir(folder_path + \"PNEUMONIA\"):\n",
    "    im = img.open(folder_path + \"PNEUMONIA/\" + f)\n",
    "    im = im.resize(dimensions)\n",
    "    im = im.convert('L')\n",
    "    im_array = np.asarray(im)\n",
    "    train_images.append(im_array)\n",
    "    im.close()\n",
    "\n",
    "    train_labels = np.append(train_labels, 1)    \n",
    "    # if \"bacteria\" in f:\n",
    "        # train_labels = np.append(train_labels, 1)\n",
    "    # elif \"virus\" in f:\n",
    "        # train_labels = np.append(train_labels, 2)\n",
    "    \n",
    "    if np.size(train_labels) >= 2 * num_normal:\n",
    "        break\n",
    "    \n",
    "\n",
    "test_images = []\n",
    "test_labels = np.array([])\n",
    "folder_path = \"/mnt/c/NN/Pneumonia/chest_xray/test/\"\n",
    "\n",
    "for f in listdir(folder_path + \"NORMAL\"):\n",
    "    im = img.open(folder_path + \"NORMAL/\" + f)\n",
    "    im = im.resize(dimensions)\n",
    "    im = im.convert('L')\n",
    "    im_array = np.asarray(im)\n",
    "    test_images.append(im_array)\n",
    "    im.close()    \n",
    "    test_labels = np.append(test_labels, 0)\n",
    "\n",
    "for f in listdir(folder_path + \"PNEUMONIA\"):\n",
    "    im = img.open(folder_path + \"PNEUMONIA/\" + f)\n",
    "    im = im.resize(dimensions)\n",
    "    im = im.convert('L')\n",
    "    im_array = np.asarray(im)\n",
    "    test_images.append(im_array)\n",
    "    im.close()\n",
    "\n",
    "    test_labels = np.append(test_labels, 1)    \n",
    "    # if \"bacteria\" in f:\n",
    "        # test_labels = np.append(test_labels, 1)\n",
    "    # elif \"virus\" in f:\n",
    "        # test_labels = np.append(test_labels, 2)\n",
    "\n",
    "train_images = np.array(train_images)\n",
    "test_images = np.array(test_images)\n",
    "\n",
    "train_images = train_images / 255.0\n",
    "test_images = test_images / 255.0"
   ]
  },
  {
   "cell_type": "code",
   "execution_count": null,
   "metadata": {},
   "outputs": [],
   "source": [
    "unique, counts = np.unique(train_labels, return_counts=True)\n",
    "print(dict(zip(unique, counts)))"
   ]
  },
  {
   "cell_type": "markdown",
   "metadata": {},
   "source": [
    "Images Imported\n",
    "Average time taken = 150 seconds."
   ]
  },
  {
   "cell_type": "code",
   "execution_count": null,
   "metadata": {},
   "outputs": [],
   "source": [
    "model = models.Sequential()\n",
    "model.add(layers.Conv2D(pixels, (3, 3), activation='relu', input_shape=(pixels, pixels, 1)))\n",
    "model.add(layers.MaxPooling2D((2, 2)))\n",
    "model.add(layers.Conv2D(2 * pixels, (3, 3), activation='relu'))\n",
    "model.add(layers.MaxPooling2D((2, 2)))\n",
    "model.add(layers.Conv2D(2 * pixels, (3, 3), activation='relu'))\n",
    "model.add(layers.MaxPooling2D((2, 2)))\n",
    "\n",
    "model.add(layers.Flatten())\n",
    "model.add(layers.Dense(pixels, activation='relu'))\n",
    "model.add(layers.Dense(bins))\n",
    "\n",
    "opt = tf.keras.optimizers.Adam(learning_rate=learning_rate)\n",
    "model.compile(optimizer=opt,\n",
    "              loss=tf.keras.losses.SparseCategoricalCrossentropy(from_logits=True),\n",
    "              metrics=['accuracy'])"
   ]
  },
  {
   "cell_type": "markdown",
   "metadata": {},
   "source": [
    "Creates CNN model"
   ]
  },
  {
   "cell_type": "code",
   "execution_count": null,
   "metadata": {},
   "outputs": [],
   "source": [
    "history = model.fit(train_images, train_labels, callbacks=[LearningRateReducerCb()], epochs=num_epochs,\n",
    "                    validation_data=(test_images, test_labels))"
   ]
  },
  {
   "cell_type": "markdown",
   "metadata": {},
   "source": [
    "Trains the model.\n",
    "Number of epochs = 3\n",
    "Training time = 33:27"
   ]
  },
  {
   "cell_type": "code",
   "execution_count": null,
   "metadata": {},
   "outputs": [],
   "source": [
    "test_loss, test_acc = model.evaluate(test_images, test_labels, verbose=2)\n",
    "print(\"Accuracy = \" + str(np.round(test_acc * 100, 3)) + \" %\")"
   ]
  },
  {
   "cell_type": "markdown",
   "metadata": {},
   "source": [
    "Prints accuracy for the model.\n",
    "Validation Accuracy reached = 65"
   ]
  },
  {
   "cell_type": "code",
   "execution_count": null,
   "metadata": {},
   "outputs": [],
   "source": [
    "filename = 'model.sav'\n",
    "pk.dump(model, open(filename, 'wb'))"
   ]
  },
  {
   "cell_type": "code",
   "execution_count": 3,
   "metadata": {},
   "outputs": [
    {
     "ename": "NameError",
     "evalue": "name 'train_images' is not defined",
     "output_type": "error",
     "traceback": [
      "\u001b[0;31m---------------------------------------------------------------------------\u001b[0m",
      "\u001b[0;31mNameError\u001b[0m                                 Traceback (most recent call last)",
      "\u001b[1;32m/home/mparanja/git/Pneumonia-Detector/main.ipynb Cell 18'\u001b[0m in \u001b[0;36m<cell line: 1>\u001b[0;34m()\u001b[0m\n\u001b[0;32m----> <a href='vscode-notebook-cell://wsl%2Bubuntu-20.04/home/mparanja/git/Pneumonia-Detector/main.ipynb#ch0000017vscode-remote?line=0'>1</a>\u001b[0m img\u001b[39m.\u001b[39mfromarray(train_images[\u001b[39m0\u001b[39m] \u001b[39m*\u001b[39m \u001b[39m255\u001b[39m)\u001b[39m.\u001b[39mshow()\n\u001b[1;32m      <a href='vscode-notebook-cell://wsl%2Bubuntu-20.04/home/mparanja/git/Pneumonia-Detector/main.ipynb#ch0000017vscode-remote?line=1'>2</a>\u001b[0m to_predict \u001b[39m=\u001b[39m np\u001b[39m.\u001b[39mreshape(train_images[\u001b[39m0\u001b[39m:\u001b[39m1341\u001b[39m], (\u001b[39m1341\u001b[39m, pixels, pixels, \u001b[39m1\u001b[39m))\n\u001b[1;32m      <a href='vscode-notebook-cell://wsl%2Bubuntu-20.04/home/mparanja/git/Pneumonia-Detector/main.ipynb#ch0000017vscode-remote?line=2'>3</a>\u001b[0m \u001b[39m# to_predict = np.expand_dims(to_predict, 0)\u001b[39;00m\n",
      "\u001b[0;31mNameError\u001b[0m: name 'train_images' is not defined"
     ]
    }
   ],
   "source": [
    "img.fromarray(train_images[0] * 255).show()\n",
    "to_predict = np.reshape(train_images[0:1341], (1341, pixels, pixels, 1))\n",
    "# to_predict = np.expand_dims(to_predict, 0)\n",
    "download_model = pk.load(open('model.sav', 'rb'))\n",
    "temp = download_model.predict(to_predict)\n",
    "print(temp.count(0))\n",
    "print(temp.count(1))\n",
    "# print(download_model.predict(to_predict))"
   ]
  }
 ],
 "metadata": {
  "interpreter": {
   "hash": "e731989cd326d52c77dd083fcea25a1c1d243382c978fca58052fddf4e4e75d8"
  },
  "kernelspec": {
   "display_name": "Python 3.9.7 ('mlenv')",
   "language": "python",
   "name": "python3"
  },
  "language_info": {
   "codemirror_mode": {
    "name": "ipython",
    "version": 3
   },
   "file_extension": ".py",
   "mimetype": "text/x-python",
   "name": "python",
   "nbconvert_exporter": "python",
   "pygments_lexer": "ipython3",
   "version": "3.9.7"
  },
  "orig_nbformat": 4
 },
 "nbformat": 4,
 "nbformat_minor": 2
}
