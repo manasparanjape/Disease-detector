{
 "cells": [
  {
   "cell_type": "markdown",
   "metadata": {},
   "source": [
    "Code to predict type of pmeumonia from exray of chest of patient."
   ]
  },
  {
   "cell_type": "code",
   "execution_count": 1,
   "metadata": {},
   "outputs": [],
   "source": [
    "import os\n",
    "os.environ['TF_CPP_MIN_LOG_LEVEL'] = '3'\n",
    "\n",
    "from os import listdir\n",
    "from os.path import isfile, join\n",
    "import numpy as np\n",
    "import tensorflow as tf\n",
    "from PIL import Image as img\n",
    "from tensorflow.python import keras\n",
    "from keras import Sequential, datasets, layers, models\n",
    "import pickle as pk"
   ]
  },
  {
   "cell_type": "markdown",
   "metadata": {},
   "source": [
    "Various imports needed."
   ]
  },
  {
   "cell_type": "code",
   "execution_count": 8,
   "metadata": {},
   "outputs": [],
   "source": [
    "pixels = 150\n",
    "dimensions = (pixels, pixels)\n",
    "bins = 3\n",
    "mid_layer = 750\n",
    "training_iters = 10\n",
    "learning_rate = 2e-3\n",
    "num_epochs = 1\n",
    "reduction_factor = 0.9"
   ]
  },
  {
   "cell_type": "markdown",
   "metadata": {},
   "source": [
    "Variables defined"
   ]
  },
  {
   "cell_type": "code",
   "execution_count": 9,
   "metadata": {},
   "outputs": [],
   "source": [
    "class LearningRateReducerCb(tf.keras.callbacks.Callback):\n",
    "    def on_epoch_end(self, epoch, logs={}):\n",
    "        old_lr = self.model.optimizer.lr.read_value()\n",
    "        new_lr = old_lr * reduction_factor\n",
    "        print(\"\\nEpoch: {}. Reducing Learning Rate from {} to {}\".format(epoch, old_lr, new_lr))\n",
    "        self.model.optimizer.lr.assign(new_lr)"
   ]
  },
  {
   "cell_type": "markdown",
   "metadata": {},
   "source": [
    "Reduces learning rate by epochs."
   ]
  },
  {
   "cell_type": "code",
   "execution_count": 4,
   "metadata": {},
   "outputs": [],
   "source": [
    "train_images = []\n",
    "train_labels = np.array([])\n",
    "folder_path = \"/mnt/c/NN/Pneumonia/chest_xray/train/\"\n",
    "\n",
    "for f in listdir(folder_path + \"NORMAL\"):\n",
    "    im = img.open(folder_path + \"NORMAL/\" + f)\n",
    "    im = im.resize(dimensions)\n",
    "    im = im.convert('L')\n",
    "    im_array = np.asarray(im)\n",
    "    train_images.append(im_array)\n",
    "    im.close()\n",
    "    train_labels = np.append(train_labels, 0)\n",
    "\n",
    "num_normal = np.size(train_labels)\n",
    "\n",
    "for f in listdir(folder_path + \"PNEUMONIA\"):\n",
    "    im = img.open(folder_path + \"PNEUMONIA/\" + f)\n",
    "    im = im.resize(dimensions)\n",
    "    im = im.convert('L')\n",
    "    im_array = np.asarray(im)\n",
    "    train_images.append(im_array)\n",
    "    im.close()\n",
    "\n",
    "    if \"bacteria\" in f:\n",
    "        train_labels = np.append(train_labels, 1)\n",
    "    elif \"virus\" in f:\n",
    "        train_labels = np.append(train_labels, 2)\n",
    "    \n",
    "    if np.size(train_labels) >= 2 * num_normal:\n",
    "        break\n",
    "    \n",
    "\n",
    "test_images = []\n",
    "test_labels = np.array([])\n",
    "folder_path = \"/mnt/c/NN/Pneumonia/chest_xray/test/\"\n",
    "\n",
    "for f in listdir(folder_path + \"NORMAL\"):\n",
    "    im = img.open(folder_path + \"NORMAL/\" + f)\n",
    "    im = im.resize(dimensions)\n",
    "    im = im.convert('L')\n",
    "    im_array = np.asarray(im)\n",
    "    test_images.append(im_array)\n",
    "    im.close()    \n",
    "    test_labels = np.append(test_labels, 0)\n",
    "\n",
    "for f in listdir(folder_path + \"PNEUMONIA\"):\n",
    "    im = img.open(folder_path + \"PNEUMONIA/\" + f)\n",
    "    im = im.resize(dimensions)\n",
    "    im = im.convert('L')\n",
    "    im_array = np.asarray(im)\n",
    "    test_images.append(im_array)\n",
    "    im.close()\n",
    "\n",
    "    if \"bacteria\" in f:\n",
    "        test_labels = np.append(test_labels, 1)\n",
    "    elif \"virus\" in f:\n",
    "        test_labels = np.append(test_labels, 2)\n",
    "\n",
    "train_images = np.array(train_images)\n",
    "test_images = np.array(test_images)\n",
    "\n",
    "train_images = train_images / 255.0\n",
    "test_images = test_images / 255.0"
   ]
  },
  {
   "cell_type": "code",
   "execution_count": 5,
   "metadata": {},
   "outputs": [
    {
     "name": "stdout",
     "output_type": "stream",
     "text": [
      "{0.0: 1341, 1.0: 728, 2.0: 613}\n"
     ]
    }
   ],
   "source": [
    "unique, counts = np.unique(train_labels, return_counts=True)\n",
    "print(dict(zip(unique, counts)))"
   ]
  },
  {
   "cell_type": "markdown",
   "metadata": {},
   "source": [
    "Images Imported\n",
    "Average time taken = 150 seconds."
   ]
  },
  {
   "cell_type": "code",
   "execution_count": 10,
   "metadata": {},
   "outputs": [],
   "source": [
    "model = models.Sequential()\n",
    "model.add(layers.Conv2D(pixels, (3, 3), activation='relu', input_shape=(pixels, pixels, 1)))\n",
    "model.add(layers.MaxPooling2D((2, 2)))\n",
    "model.add(layers.Conv2D(2 * pixels, (3, 3), activation='relu'))\n",
    "model.add(layers.MaxPooling2D((2, 2)))\n",
    "model.add(layers.Conv2D(2 * pixels, (3, 3), activation='relu'))\n",
    "model.add(layers.MaxPooling2D((2, 2)))\n",
    "\n",
    "model.add(layers.Flatten())\n",
    "model.add(layers.Dense(pixels, activation='relu'))\n",
    "model.add(layers.Dense(bins))\n",
    "\n",
    "opt = tf.keras.optimizers.Adam(learning_rate=learning_rate)\n",
    "model.compile(optimizer=opt,\n",
    "              loss=tf.keras.losses.SparseCategoricalCrossentropy(from_logits=True),\n",
    "              metrics=['accuracy'])"
   ]
  },
  {
   "cell_type": "markdown",
   "metadata": {},
   "source": [
    "Creates CNN model"
   ]
  },
  {
   "cell_type": "code",
   "execution_count": 11,
   "metadata": {},
   "outputs": [
    {
     "name": "stdout",
     "output_type": "stream",
     "text": [
      "Epoch 1/3\n",
      "84/84 [==============================] - ETA: 0s - loss: 1.3762 - accuracy: 0.5533\n",
      "Epoch: 0. Reducing Learning Rate from 0.0020000000949949026 to 0.0018000000854954123\n",
      "84/84 [==============================] - 293s 3s/step - loss: 1.3762 - accuracy: 0.5533 - val_loss: 0.9106 - val_accuracy: 0.4487\n",
      "Epoch 2/3\n",
      "84/84 [==============================] - ETA: 0s - loss: 0.5473 - accuracy: 0.7438\n",
      "Epoch: 1. Reducing Learning Rate from 0.0018000000854954123 to 0.0016199999954551458\n",
      "84/84 [==============================] - 311s 4s/step - loss: 0.5473 - accuracy: 0.7438 - val_loss: 0.9527 - val_accuracy: 0.7051\n",
      "Epoch 3/3\n",
      "84/84 [==============================] - ETA: 0s - loss: 0.4501 - accuracy: 0.7923\n",
      "Epoch: 2. Reducing Learning Rate from 0.0016199999954551458 to 0.0014579999260604382\n",
      "84/84 [==============================] - 315s 4s/step - loss: 0.4501 - accuracy: 0.7923 - val_loss: 0.7541 - val_accuracy: 0.7131\n"
     ]
    }
   ],
   "source": [
    "num_epochs = 3\n",
    "history = model.fit(train_images, train_labels, callbacks=[LearningRateReducerCb()], epochs=num_epochs,\n",
    "                    validation_data=(test_images, test_labels))"
   ]
  },
  {
   "cell_type": "markdown",
   "metadata": {},
   "source": [
    "Trains the model.\n",
    "Number of epochs = 3\n",
    "Training time = 33:27"
   ]
  },
  {
   "cell_type": "code",
   "execution_count": 12,
   "metadata": {},
   "outputs": [
    {
     "name": "stdout",
     "output_type": "stream",
     "text": [
      "20/20 - 15s - loss: 0.7541 - accuracy: 0.7131 - 15s/epoch - 734ms/step\n",
      "Accuracy = 71.314 %\n"
     ]
    }
   ],
   "source": [
    "test_loss, test_acc = model.evaluate(test_images, test_labels, verbose=2)\n",
    "print(\"Accuracy = \" + str(np.round(test_acc * 100, 3)) + \" %\")"
   ]
  },
  {
   "cell_type": "markdown",
   "metadata": {},
   "source": [
    "Prints accuracy for the model.\n",
    "Validation Accuracy reached = 65"
   ]
  },
  {
   "cell_type": "code",
   "execution_count": 13,
   "metadata": {},
   "outputs": [
    {
     "name": "stdout",
     "output_type": "stream",
     "text": [
      "INFO:tensorflow:Assets written to: ram://4c81e08d-414c-48da-accf-05220fa051fc/assets\n"
     ]
    }
   ],
   "source": [
    "filename = 'model_bins_3.bin'\n",
    "pk.dump(model, open(filename, 'wb'))"
   ]
  },
  {
   "cell_type": "code",
   "execution_count": 14,
   "metadata": {},
   "outputs": [
    {
     "data": {
      "image/png": "[encoded data removed]",
      "text/plain": [
       "<PIL.Image.Image image mode=L size=150x150 at 0x7F192E373BB0>"
      ]
     },
     "metadata": {},
     "output_type": "display_data"
    },
    {
     "ename": "FileNotFoundError",
     "evalue": "[Errno 2] No such file or directory: 'model.sav'",
     "output_type": "error",
     "traceback": [
      "\u001b[0;31m---------------------------------------------------------------------------\u001b[0m",
      "\u001b[0;31mFileNotFoundError\u001b[0m                         Traceback (most recent call last)",
      "\u001b[1;32m/home/mparanja/git/Pneumonia-Detector/bins_3.ipynb Cell 18'\u001b[0m in \u001b[0;36m<cell line: 4>\u001b[0;34m()\u001b[0m\n\u001b[1;32m      <a href='vscode-notebook-cell://wsl%2Bubuntu-20.04/home/mparanja/git/Pneumonia-Detector/bins_3.ipynb#ch0000017vscode-remote?line=1'>2</a>\u001b[0m to_predict \u001b[39m=\u001b[39m np\u001b[39m.\u001b[39mreshape(train_images[\u001b[39m0\u001b[39m:\u001b[39m1341\u001b[39m], (\u001b[39m1341\u001b[39m, pixels, pixels, \u001b[39m1\u001b[39m))\n\u001b[1;32m      <a href='vscode-notebook-cell://wsl%2Bubuntu-20.04/home/mparanja/git/Pneumonia-Detector/bins_3.ipynb#ch0000017vscode-remote?line=2'>3</a>\u001b[0m \u001b[39m# to_predict = np.expand_dims(to_predict, 0)\u001b[39;00m\n\u001b[0;32m----> <a href='vscode-notebook-cell://wsl%2Bubuntu-20.04/home/mparanja/git/Pneumonia-Detector/bins_3.ipynb#ch0000017vscode-remote?line=3'>4</a>\u001b[0m download_model \u001b[39m=\u001b[39m pk\u001b[39m.\u001b[39mload(\u001b[39mopen\u001b[39;49m(\u001b[39m'\u001b[39;49m\u001b[39mmodel.sav\u001b[39;49m\u001b[39m'\u001b[39;49m, \u001b[39m'\u001b[39;49m\u001b[39mrb\u001b[39;49m\u001b[39m'\u001b[39;49m))\n\u001b[1;32m      <a href='vscode-notebook-cell://wsl%2Bubuntu-20.04/home/mparanja/git/Pneumonia-Detector/bins_3.ipynb#ch0000017vscode-remote?line=4'>5</a>\u001b[0m temp \u001b[39m=\u001b[39m download_model\u001b[39m.\u001b[39mpredict(to_predict)\n\u001b[1;32m      <a href='vscode-notebook-cell://wsl%2Bubuntu-20.04/home/mparanja/git/Pneumonia-Detector/bins_3.ipynb#ch0000017vscode-remote?line=5'>6</a>\u001b[0m \u001b[39mprint\u001b[39m(temp\u001b[39m.\u001b[39mcount(\u001b[39m0\u001b[39m))\n",
      "\u001b[0;31mFileNotFoundError\u001b[0m: [Errno 2] No such file or directory: 'model.sav'"
     ]
    }
   ],
   "source": [
    "img.fromarray(train_images[0] * 255).show()\n",
    "to_predict = np.reshape(train_images[0:1341], (1341, pixels, pixels, 1))\n",
    "# to_predict = np.expand_dims(to_predict, 0)\n",
    "download_model = pk.load(open('model.sav', 'rb'))\n",
    "temp = download_model.predict(to_predict)\n",
    "print(temp.count(0))\n",
    "print(temp.count(1))\n",
    "# print(download_model.predict(to_predict))"
   ]
  },
  {
   "cell_type": "code",
   "execution_count": 16,
   "metadata": {},
   "outputs": [
    {
     "name": "stdout",
     "output_type": "stream",
     "text": [
      "[[ 2.681516  -2.18583   -1.9667264]]\n"
     ]
    }
   ],
   "source": [
    "download_model = pk.load(open('model_bins_3.sav', 'rb'))\n",
    "image = img.open(\"/mnt/c/NN/Pneumonia/chest_xray/train/NORMAL/IM-0115-0001.jpeg\")\n",
    "image = image.resize(dimensions)\n",
    "image = image.convert('L')\n",
    "image_array = np.asarray(image)\n",
    "image_array = np.reshape(image_array, (pixels, pixels, 1))\n",
    "image_array = np.expand_dims(image_array, 0)\n",
    "image_array = image_array / 255.0\n",
    "\n",
    "print(download_model.predict(image_array))"
   ]
  }
 ],
 "metadata": {
  "interpreter": {
   "hash": "e731989cd326d52c77dd083fcea25a1c1d243382c978fca58052fddf4e4e75d8"
  },
  "kernelspec": {
   "display_name": "Python 3.9.7 ('mlenv')",
   "language": "python",
   "name": "python3"
  },
  "language_info": {
   "codemirror_mode": {
    "name": "ipython",
    "version": 3
   },
   "file_extension": ".py",
   "mimetype": "text/x-python",
   "name": "python",
   "nbconvert_exporter": "python",
   "pygments_lexer": "ipython3",
   "version": "3.9.7"
  },
  "orig_nbformat": 4
 },
 "nbformat": 4,
 "nbformat_minor": 2
}
