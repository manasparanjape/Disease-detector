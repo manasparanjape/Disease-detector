{
 "cells": [
  {
   "cell_type": "code",
   "execution_count": 1,
   "metadata": {},
   "outputs": [],
   "source": [
    "import os\n",
    "os.environ['TF_CPP_MIN_LOG_LEVEL'] = '3'\n",
    "\n",
    "from os import listdir\n",
    "from os.path import isfile, join\n",
    "import numpy as np\n",
    "import tensorflow as tf\n",
    "from PIL import Image as img\n",
    "from tensorflow.python import keras\n",
    "from keras import Sequential, datasets, layers, models\n",
    "import pickle as pk"
   ]
  },
  {
   "cell_type": "code",
   "execution_count": null,
   "metadata": {},
   "outputs": [],
   "source": [
    "pixels = 100\n",
    "dimensions = (pixels, pixels)\n",
    "bins = 4\n",
    "mid_layer = 128\n",
    "num_epochs = 3\n",
    "learning_rate = 0.001\n",
    "reduction_factor = 0.8"
   ]
  },
  {
   "cell_type": "code",
   "execution_count": null,
   "metadata": {},
   "outputs": [],
   "source": [
    "class LearningRateReducerCb(tf.keras.callbacks.Callback):\n",
    "    def on_epoch_end(self, epoch, logs={}):\n",
    "        old_lr = self.model.optimizer.lr.read_value()\n",
    "        new_lr = old_lr * reduction_factor\n",
    "        print(\"\\nEpoch: {}. Reducing Learning Rate from {} to {}\".format(epoch, old_lr, new_lr))\n",
    "        self.model.optimizer.lr.assign(new_lr)"
   ]
  },
  {
   "cell_type": "code",
   "execution_count": null,
   "metadata": {},
   "outputs": [],
   "source": [
    "train_images = []\n",
    "train_labels = np.array([])\n",
    "\n",
    "folder_path = \"/mnt/c/NN/Brain_Tumor/Training/\"\n",
    "\n",
    "for i in range(10, 1321):\n",
    "    im = img.open(folder_path + \"glioma/Tr-gl_\" + str(i).zfill(4) + \".jpg\")\n",
    "    im = im.resize(dimensions)\n",
    "    im = im.convert('L')\n",
    "    im_array = np.asarray(im)\n",
    "    im.close()\n",
    "    train_images.append(im_array)\n",
    "    train_labels = np.append(train_labels, 1)\n",
    "\n",
    "for i in range(10, 1339):\n",
    "    im = img.open(folder_path + \"meningioma/Tr-me_\" + str(i).zfill(4) + \".jpg\")\n",
    "    im = im.resize(dimensions)\n",
    "    im = im.convert('L')\n",
    "    im_array = np.asarray(im)\n",
    "    im.close()\n",
    "    train_images.append(im_array)\n",
    "    train_labels = np.append(train_labels, 2)\n",
    "\n",
    "for i in range(10, 1457):\n",
    "    im = img.open(folder_path + \"pituitary/Tr-pi_\" + str(i).zfill(4) + \".jpg\")\n",
    "    im = im.resize(dimensions)\n",
    "    im = im.convert('L')\n",
    "    im_array = np.asarray(im)\n",
    "    im.close()\n",
    "    train_images.append(im_array)\n",
    "    train_labels = np.append(train_labels, 3)\n",
    "\n",
    "for i in range(10, 1595):\n",
    "    im = img.open(folder_path + \"notumor/Tr-no_\" + str(i).zfill(4) + \".jpg\")\n",
    "    im = im.resize(dimensions)\n",
    "    im = im.convert('L')\n",
    "    im_array = np.asarray(im)\n",
    "    im.close()\n",
    "    train_images.append(im_array)\n",
    "    train_labels = np.append(train_labels, 0)"
   ]
  },
  {
   "cell_type": "code",
   "execution_count": null,
   "metadata": {},
   "outputs": [],
   "source": [
    "test_images = []\n",
    "test_labels = np.array([])\n",
    "\n",
    "folder_path = \"/mnt/c/NN/Brain_Tumor/Testing/\"\n",
    "\n",
    "for i in range(10, 300):\n",
    "    im = img.open(folder_path + \"glioma/Te-gl_\" + str(i).zfill(4) + \".jpg\")\n",
    "    im = im.resize(dimensions)\n",
    "    im = im.convert('L')\n",
    "    im_array = np.asarray(im)\n",
    "    im.close()\n",
    "    test_images.append(im_array)\n",
    "    test_labels = np.append(test_labels, 1)\n",
    "\n",
    "for i in range(10, 306):\n",
    "    im = img.open(folder_path + \"meningioma/Te-me_\" + str(i).zfill(4) + \".jpg\")\n",
    "    im = im.resize(dimensions)\n",
    "    im = im.convert('L')\n",
    "    im_array = np.asarry(im)\n",
    "    im.close()\n",
    "    test_images.append(im_array)"
   ]
  }
 ],
 "metadata": {
  "interpreter": {
   "hash": "e731989cd326d52c77dd083fcea25a1c1d243382c978fca58052fddf4e4e75d8"
  },
  "kernelspec": {
   "display_name": "Python 3.9.7 ('mlenv')",
   "language": "python",
   "name": "python3"
  },
  "language_info": {
   "codemirror_mode": {
    "name": "ipython",
    "version": 3
   },
   "file_extension": ".py",
   "mimetype": "text/x-python",
   "name": "python",
   "nbconvert_exporter": "python",
   "pygments_lexer": "ipython3",
   "version": "3.9.7"
  },
  "orig_nbformat": 4
 },
 "nbformat": 4,
 "nbformat_minor": 2
}
