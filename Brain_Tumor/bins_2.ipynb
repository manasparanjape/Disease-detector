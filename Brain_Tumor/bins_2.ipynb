{
 "cells": [
  {
   "cell_type": "code",
   "execution_count": 1,
   "metadata": {},
   "outputs": [],
   "source": [
    "import os\n",
    "os.environ['TF_CPP_MIN_LOG_LEVEL'] = '3'\n",
    "\n",
    "from os import listdir\n",
    "from os.path import isfile, join\n",
    "import numpy as np\n",
    "import tensorflow as tf\n",
    "from PIL import Image as img\n",
    "from tensorflow.python import keras\n",
    "from keras import Sequential, datasets, layers, models\n",
    "from keras.preprocessing.image import ImageDataGenerator\n",
    "import pickle as pk"
   ]
  },
  {
   "cell_type": "code",
   "execution_count": 2,
   "metadata": {},
   "outputs": [],
   "source": [
    "pixels = 150\n",
    "dimensions = (pixels, pixels)\n",
    "bins = 4\n",
    "mid_layer = 4096\n",
    "num_epochs = 3\n",
    "learning_rate = 0.001\n",
    "reduction_factor = 0.8"
   ]
  },
  {
   "cell_type": "code",
   "execution_count": 3,
   "metadata": {},
   "outputs": [],
   "source": [
    "class LearningRateReducerCb(tf.keras.callbacks.Callback):\n",
    "    def on_epoch_end(self, epoch, logs={}):\n",
    "        old_lr = self.model.optimizer.lr.read_value()\n",
    "        new_lr = old_lr * reduction_factor\n",
    "        print(\"\\nEpoch: {}. Reducing Learning Rate from {} to {}\".format(epoch, old_lr, new_lr))\n",
    "        self.model.optimizer.lr.assign(new_lr)"
   ]
  },
  {
   "cell_type": "code",
   "execution_count": 4,
   "metadata": {},
   "outputs": [],
   "source": [
    "train_images = []\n",
    "train_labels = np.array([])\n",
    "\n",
    "folder_path = \"/mnt/c/NN/Brain_Tumor/Training/\"\n",
    "\n",
    "for i in range(10, 1321):\n",
    "    im = img.open(folder_path + \"glioma/Tr-gl_\" + str(i).zfill(4) + \".jpg\")\n",
    "    im = im.resize(dimensions)\n",
    "    im = im.convert('L')\n",
    "    im_array = np.asarray(im)\n",
    "    im.close()\n",
    "    train_images.append(im_array)\n",
    "    train_labels = np.append(train_labels, 1)\n",
    "\n",
    "for i in range(10, 1339):\n",
    "    im = img.open(folder_path + \"meningioma/Tr-me_\" + str(i).zfill(4) + \".jpg\")\n",
    "    im = im.resize(dimensions)\n",
    "    im = im.convert('L')\n",
    "    im_array = np.asarray(im)\n",
    "    im.close()\n",
    "    train_images.append(im_array)\n",
    "    train_labels = np.append(train_labels, 2)\n",
    "\n",
    "for i in range(10, 1457):\n",
    "    im = img.open(folder_path + \"pituitary/Tr-pi_\" + str(i).zfill(4) + \".jpg\")\n",
    "    im = im.resize(dimensions)\n",
    "    im = im.convert('L')\n",
    "    im_array = np.asarray(im)\n",
    "    im.close()\n",
    "    train_images.append(im_array)\n",
    "    train_labels = np.append(train_labels, 3)\n",
    "\n",
    "for i in range(10, 1595):\n",
    "    im = img.open(folder_path + \"notumor/Tr-no_\" + str(i).zfill(4) + \".jpg\")\n",
    "    im = im.resize(dimensions)\n",
    "    im = im.convert('L')\n",
    "    im_array = np.asarray(im)\n",
    "    im.close()\n",
    "    train_images.append(im_array)\n",
    "    train_labels = np.append(train_labels, 0)"
   ]
  },
  {
   "cell_type": "code",
   "execution_count": 5,
   "metadata": {},
   "outputs": [],
   "source": [
    "test_images = []\n",
    "test_labels = np.array([])\n",
    "\n",
    "folder_path = \"/mnt/c/NN/Brain_Tumor/Testing/\"\n",
    "\n",
    "for i in range(10, 300):\n",
    "    im = img.open(folder_path + \"glioma/Te-gl_\" + str(i).zfill(4) + \".jpg\")\n",
    "    im = im.resize(dimensions)\n",
    "    im = im.convert('L')\n",
    "    im_array = np.asarray(im)\n",
    "    im.close()\n",
    "    test_images.append(im_array)\n",
    "    test_labels = np.append(test_labels, 1)\n",
    "\n",
    "for i in range(10, 306):\n",
    "    im = img.open(folder_path + \"meningioma/Te-me_\" + str(i).zfill(4) + \".jpg\")\n",
    "    im = im.resize(dimensions)\n",
    "    im = im.convert('L')\n",
    "    im_array = np.asarray(im)\n",
    "    im.close()\n",
    "    test_images.append(im_array)\n",
    "    test_labels = np.append(test_labels, 2)\n",
    "\n",
    "for i in range(10, 300):\n",
    "    im = img.open(folder_path + \"pituitary/Te-pi_\" + str(i).zfill(4) + \".jpg\")\n",
    "    im = im.resize(dimensions)\n",
    "    im = im.convert('L')\n",
    "    im_array = np.asarray(im)\n",
    "    im.close()\n",
    "    test_images.append(im_array)\n",
    "    test_labels = np.append(test_labels, 3)\n",
    "\n",
    "for i in range(10, 405):\n",
    "    im = img.open(folder_path + \"notumor/Te-no_\" + str(i).zfill(4) + \".jpg\")\n",
    "    im = im.resize(dimensions)\n",
    "    im = im.convert('L')\n",
    "    im_array = np.asarray(im)\n",
    "    im.close()\n",
    "    test_images.append(im_array)\n",
    "    test_labels = np.append(test_labels, 0)"
   ]
  },
  {
   "cell_type": "code",
   "execution_count": 6,
   "metadata": {},
   "outputs": [],
   "source": [
    "train_images = np.array(train_images)\n",
    "test_images = np.array(test_images)"
   ]
  },
  {
   "cell_type": "code",
   "execution_count": 8,
   "metadata": {},
   "outputs": [],
   "source": [
    "model = models.Sequential()\n",
    "model.add(layers.Conv2D(32, (3, 3), activation='relu', input_shape=(pixels, pixels, 1)))\n",
    "model.add(layers.MaxPooling2D((2, 2)))\n",
    "model.add(layers.Conv2D(64, (3, 3), activation='relu', padding=\"same\"))\n",
    "model.add(layers.MaxPooling2D((2, 2)))\n",
    "model.add(layers.Conv2D(128, (3, 3), activation='relu', padding=\"same\"))\n",
    "model.add(layers.MaxPooling2D((3, 3)))\n",
    "model.add(layers.Conv2D(256, (3, 3), activation='relu', padding=\"same\"))\n",
    "model.add(layers.MaxPooling2D((3, 3)))\n",
    "model.add(layers.Conv2D(512, (3, 3), activation='relu', padding=\"same\"))\n",
    "model.add(layers.MaxPooling2D((3, 3)))\n",
    "\n",
    "model.add(layers.Flatten())\n",
    "model.add(layers.Dense(128, activation='relu'))\n",
    "model.add(layers.Dense(bins, activation='sigmoid'))\n",
    "\n",
    "opt = tf.keras.optimizers.Adam(learning_rate=learning_rate)\n",
    "model.compile(optimizer=opt,\n",
    "              loss=tf.keras.losses.SparseCategoricalCrossentropy(from_logits=True),\n",
    "              metrics=['accuracy'])"
   ]
  },
  {
   "cell_type": "code",
   "execution_count": 9,
   "metadata": {},
   "outputs": [
    {
     "name": "stdout",
     "output_type": "stream",
     "text": [
      "Epoch 1/3\n"
     ]
    },
    {
     "name": "stderr",
     "output_type": "stream",
     "text": [
      "/home/mparanja/miniconda3/envs/mlenv/lib/python3.9/site-packages/tensorflow/python/util/dispatch.py:1082: UserWarning: \"`sparse_categorical_crossentropy` received `from_logits=True`, but the `output` argument was produced by a sigmoid or softmax activation and thus does not represent logits. Was this intended?\"\n",
      "  return dispatch_target(*args, **kwargs)\n"
     ]
    },
    {
     "name": "stdout",
     "output_type": "stream",
     "text": [
      "178/178 [==============================] - ETA: 0s - loss: 1.3982 - accuracy: 0.6719\n",
      "Epoch: 0. Reducing Learning Rate from 0.0010000000474974513 to 0.000800000037997961\n",
      "178/178 [==============================] - 95s 533ms/step - loss: 1.3982 - accuracy: 0.6719 - val_loss: 0.5808 - val_accuracy: 0.7561\n",
      "Epoch 2/3\n",
      "178/178 [==============================] - ETA: 0s - loss: 0.3593 - accuracy: 0.8692\n",
      "Epoch: 1. Reducing Learning Rate from 0.000800000037997961 to 0.000640000042039901\n",
      "178/178 [==============================] - 108s 604ms/step - loss: 0.3593 - accuracy: 0.8692 - val_loss: 0.3700 - val_accuracy: 0.8529\n",
      "Epoch 3/3\n",
      "178/178 [==============================] - ETA: 0s - loss: 0.2371 - accuracy: 0.9182\n",
      "Epoch: 2. Reducing Learning Rate from 0.000640000042039901 to 0.0005120000569149852\n",
      "178/178 [==============================] - 113s 636ms/step - loss: 0.2371 - accuracy: 0.9182 - val_loss: 0.4447 - val_accuracy: 0.8379\n"
     ]
    }
   ],
   "source": [
    "history = model.fit(train_images, train_labels, callbacks=[LearningRateReducerCb()], epochs=num_epochs,\n",
    "                    validation_data=(test_images, test_labels))"
   ]
  },
  {
   "cell_type": "code",
   "execution_count": 10,
   "metadata": {},
   "outputs": [
    {
     "name": "stdout",
     "output_type": "stream",
     "text": [
      "40/40 - 3s - loss: 0.4447 - accuracy: 0.8379 - 3s/epoch - 81ms/step\n",
      "Accuracy = 83.792 %\n"
     ]
    }
   ],
   "source": [
    "test_loss, test_acc = model.evaluate(test_images, test_labels, verbose=2)\n",
    "print(\"Accuracy = \" + str(np.round(test_acc * 100, 3)) + \" %\")"
   ]
  },
  {
   "cell_type": "code",
   "execution_count": 11,
   "metadata": {},
   "outputs": [
    {
     "name": "stdout",
     "output_type": "stream",
     "text": [
      "INFO:tensorflow:Assets written to: ram://76b443af-c516-4309-bdc5-ac599b694b75/assets\n"
     ]
    }
   ],
   "source": [
    "filename = 'model.bin'\n",
    "pk.dump(model, open(filename, 'wb'))"
   ]
  },
  {
   "cell_type": "code",
   "execution_count": null,
   "metadata": {},
   "outputs": [],
   "source": [
    "model = pk.load(open(filename, 'rb'))"
   ]
  }
 ],
 "metadata": {
  "interpreter": {
   "hash": "e731989cd326d52c77dd083fcea25a1c1d243382c978fca58052fddf4e4e75d8"
  },
  "kernelspec": {
   "display_name": "Python 3.9.7 ('mlenv')",
   "language": "python",
   "name": "python3"
  },
  "language_info": {
   "codemirror_mode": {
    "name": "ipython",
    "version": 3
   },
   "file_extension": ".py",
   "mimetype": "text/x-python",
   "name": "python",
   "nbconvert_exporter": "python",
   "pygments_lexer": "ipython3",
   "version": "3.9.7"
  },
  "orig_nbformat": 4
 },
 "nbformat": 4,
 "nbformat_minor": 2
}
