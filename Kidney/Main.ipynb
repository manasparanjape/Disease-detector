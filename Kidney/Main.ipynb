{
 "cells": [
  {
   "cell_type": "code",
   "execution_count": null,
   "metadata": {},
   "outputs": [],
   "source": [
    "import os\n",
    "os.environ['TF_CPP_MIN_LOG_LEVEL'] = '3'\n",
    "\n",
    "import numpy as np\n",
    "import tensorflow as tf\n",
    "from tensorflow.python import keras\n",
    "from keras import Sequential, models, layers\n",
    "from PIL import Image as img"
   ]
  },
  {
   "cell_type": "code",
   "execution_count": null,
   "metadata": {},
   "outputs": [],
   "source": [
    "rescale_factor = 1 / 255.0\n",
    "size = (128, 128)\n",
    "bins = 4\n",
    "mid_layer = 512\n",
    "num_epochs = 3\n",
    "learning_rate = 0.001\n",
    "reduction_factor = 0.5"
   ]
  },
  {
   "cell_type": "code",
   "execution_count": null,
   "metadata": {},
   "outputs": [],
   "source": [
    "class LearningRateReducerCb(tf.keras.callbacks.Callback):\n",
    "    def on_epoch_end(self, epoch, logs={}):\n",
    "        old_lr = self.model.optimizer.lr.read_value()\n",
    "        new_lr = old_lr * reduction_factor\n",
    "        print(\"\\nEpoch: {}. Reducing Learning Rate from {} to {}\".format(epoch, old_lr, new_lr))\n",
    "        self.model.optimizer.lr.assign(new_lr)"
   ]
  },
  {
   "cell_type": "code",
   "execution_count": null,
   "metadata": {},
   "outputs": [],
   "source": [
    "train_images = []\n",
    "train_labels = np.array([])\n",
    "\n",
    "folder_path = '/mnt/c/NN/Kidney/Train/'\n",
    "for i in range(1101):\n",
    "    im = img.open(f\"{folder_path}Cyst/Cyst- ({i}).jpg\")\n",
    "    im = im.resize(size)\n",
    "    im = im.convert('L')\n",
    "    im_array = np.asarray(im)\n",
    "    train_images.append(im_array)\n",
    "    train_labels = np.append(train_labels, 1)\n",
    "\n",
    "    im = img.open(f\"{folder_path}Normal/Normal- ({i}).jpg\")\n",
    "    im = im.resize(size)\n",
    "    im = im.convert('L')\n",
    "    im_array = np.asarray(im)\n",
    "    train_images.append(im_array)\n",
    "    train_labels = np.append(train_labels, 0)\n",
    "\n",
    "    im = img.open(f\"{folder_path}Stone/Stone- ({i}).jpg\")\n",
    "    im = im.resize(size)\n",
    "    im = im.convert('L')\n",
    "    im_array = np.asarray(im)\n",
    "    train_images.append(im_array)\n",
    "    train_labels = np.append(train_labels, 2)\n",
    "\n",
    "    im = img.open(f\"{folder_path}Tumor/Tumort- ({i}).jpg\")\n",
    "    im = im.resize(size)\n",
    "    im = im.convert('L')\n",
    "    im_array = np.asarray(im)\n",
    "    train_images.append(im_array)\n",
    "    train_labels = np.append(train_labels, 3)"
   ]
  },
  {
   "cell_type": "code",
   "execution_count": null,
   "metadata": {},
   "outputs": [],
   "source": [
    "train_images = []\n",
    "train_labels = np.array([])\n",
    "\n",
    "folder_path = '/mnt/c/NN/Kidney/Train/'\n",
    "for i in range(1101):\n",
    "    im = img.open(f\"{folder_path}Cyst/Cyst- ({i}).jpg\")\n",
    "    im = im.resize(size)\n",
    "    im = im.convert('L')\n",
    "    im_array = np.asarray(im)\n",
    "    train_images.append(im_array)\n",
    "    train_labels = np.append(train_labels, 1)\n",
    "\n",
    "    im = img.open(f\"{folder_path}Normal/Normal- ({i}).jpg\")\n",
    "    im = im.resize(size)\n",
    "    im = im.convert('L')\n",
    "    im_array = np.asarray(im)\n",
    "    train_images.append(im_array)\n",
    "    train_labels = np.append(train_labels, 0)\n",
    "\n",
    "    im = img.open(f\"{folder_path}Stone/Stone- ({i}).jpg\")\n",
    "    im = im.resize(size)\n",
    "    im = im.convert('L')\n",
    "    im_array = np.asarray(im)\n",
    "    train_images.append(im_array)\n",
    "    train_labels = np.append(train_labels, 2)\n",
    "\n",
    "    im = img.open(f\"{folder_path}Tumor/Tumort- ({i}).jpg\")\n",
    "    im = im.resize(size)\n",
    "    im = im.convert('L')\n",
    "    im_array = np.asarray(im)\n",
    "    train_images.append(im_array)\n",
    "    train_labels = np.append(train_labels, 3)"
   ]
  }
 ],
 "metadata": {
  "language_info": {
   "name": "python"
  },
  "orig_nbformat": 4
 },
 "nbformat": 4,
 "nbformat_minor": 2
}
