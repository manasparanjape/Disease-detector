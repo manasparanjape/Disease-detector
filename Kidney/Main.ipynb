{
 "cells": [
  {
   "cell_type": "code",
   "execution_count": null,
   "metadata": {},
   "outputs": [],
   "source": [
    "import os\n",
    "os.environ['TF_CPP_MIN_LOG_LEVEL'] = '3'\n",
    "\n",
    "from os import listdir\n",
    "from os.path import isfile, join\n",
    "import numpy as np\n",
    "import tensorflow as tf\n",
    "from PIL import Image as img\n",
    "from tensorflow.python import keras\n",
    "from keras import Sequential, datasets, layers, models, optimizers\n",
    "import pickle as pk"
   ]
  },
  {
   "cell_type": "code",
   "execution_count": null,
   "metadata": {},
   "outputs": [],
   "source": [
    "pixels = 128\n",
    "dimensions = (pixels, pixels)\n",
    "bins = 4\n",
    "epochs = 3"
   ]
  }
 ],
 "metadata": {
  "language_info": {
   "name": "python"
  },
  "orig_nbformat": 4
 },
 "nbformat": 4,
 "nbformat_minor": 2
}
